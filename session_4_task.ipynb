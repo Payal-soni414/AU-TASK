{
  "cells": [
    {
      "cell_type": "markdown",
      "metadata": {
        "id": "FyUJ3PRAsPr4"
      },
      "source": [
        "##`Q-1:` Rectangle Class\n",
        "1. Write a Rectangle class in Python language, allowing you to build a rectangle with length and width attributes.\n",
        "\n",
        "2. Create a Perimeter() method to calculate the perimeter of the rectangle and a Area() method to calculate the area of ​​the rectangle.\n",
        "\n",
        "3. Create a method display() that display the length, width, perimeter and area of an object created using an instantiation on rectangle class."
      ]
    },
    {
      "cell_type": "markdown",
      "metadata": {
        "id": "GxUtOqJfssFK"
      },
      "source": [
        "Eg.\n",
        "After making above classes and methods, on executing below code:-\n",
        "```\n",
        "my_rectangle = Rectangle(3 , 4)\n",
        "my_rectangle.display()\n",
        "```\n",
        "\n",
        "`Output:`\n",
        "```\n",
        "The length of rectangle is:  3\n",
        "The width of rectangle is:  4\n",
        "The perimeter of rectangle is:  14\n",
        "The area of rectangle is:  12\n",
        "```\n"
      ]
    },
    {
      "cell_type": "code",
      "execution_count": null,
      "metadata": {
        "colab": {
          "base_uri": "https://localhost:8080/"
        },
        "id": "92_QT-Uj6NBg",
        "outputId": "de696c78-b5be-462e-a949-85d84a7a8c2c"
      },
      "outputs": [
        {
          "name": "stdout",
          "output_type": "stream",
          "text": [
            "The Length of rectangle is: 3\n",
            "The width of rectangle is: 4\n",
            "The Perimeter of rectangle is : 14\n",
            "the Area of rectangle is : 12\n"
          ]
        }
      ],
      "source": [
        "class Rectangle:\n",
        "    def __init__(self, length, width):\n",
        "        self.length = length\n",
        "        self.width = width\n",
        "\n",
        "    def Perimeter(self):\n",
        "        return 2 * (self.length + self.width)\n",
        "\n",
        "    def Area(self):\n",
        "        return self.length * self.width\n",
        "\n",
        "    def display(self):\n",
        "        print(\"The Length of rectangle is:\", self.length)\n",
        "        print(\"The width of rectangle is:\", self.width)\n",
        "        print(\"The Perimeter of rectangle is :\", self.Perimeter())\n",
        "        print(\"the Area of rectangle is :\", self.Area())\n",
        "rect1 = Rectangle(3, 4)\n",
        "rect1.display()"
      ]
    },
    {
      "cell_type": "markdown",
      "metadata": {
        "id": "r_GxrS0Vrdom"
      },
      "source": [
        "##`Q-2: Bank Class`\n",
        "\n",
        "1. Create a Python class called `BankAccount` which represents a bank account, having as attributes: `accountNumber` (numeric type), `name` (name of the account owner as string type), `balance`.\n",
        "2. Create a constructor with parameters: `accountNumber, name, balance`.\n",
        "3. Create a `Deposit()` method which manages the deposit actions.\n",
        "4. Create a `Withdrawal()` method  which manages withdrawals actions.\n",
        "5. Create an `bankFees()` method to apply the bank fees with a percentage of 5% of the balance account.\n",
        "6. Create a `display()` method to display account details.\n",
        "Give the complete code for the  BankAccount class."
      ]
    },
    {
      "cell_type": "markdown",
      "metadata": {
        "id": "qvVkOUJgvTV_"
      },
      "source": [
        "Eg.\n",
        "After making above classes and methods, on executing below code:-\n",
        "```\n",
        "newAccount = BankAccount(2178514584, \"Mandy\" , 2800)\n",
        "\n",
        "newAccount.Withdrawal(700)\n",
        "\n",
        "newAccount.Deposit(1000)\n",
        "\n",
        "newAccount.display()\n",
        "```\n",
        "\n",
        "`Output:`\n",
        "```\n",
        "Account Number :  2178514584\n",
        "Account Name :  Mandy\n",
        "Account Balance :  3100 ₹\n",
        "```"
      ]
    },
    {
      "cell_type": "code",
      "execution_count": null,
      "metadata": {
        "colab": {
          "base_uri": "https://localhost:8080/"
        },
        "id": "fUQOmQyA6YDR",
        "outputId": "eb8a08be-37e4-48be-8ed6-0c168a97d384"
      },
      "outputs": [
        {
          "output_type": "stream",
          "name": "stdout",
          "text": [
            "Withdrew ₹700\n",
            "Deposited ₹1000\n",
            "Account Number : 2178514584\n",
            "Account Name : Mandy\n",
            "Account Balance : 3100 ₹\n"
          ]
        }
      ],
      "source": [
        "class BankAccount:\n",
        "  def __init__(self, accountNumber, name, balance):\n",
        "        self.accountNumber = accountNumber\n",
        "        self.name = name\n",
        "        self.balance = balance\n",
        "\n",
        "  def Deposit(self, amount):\n",
        "        self.balance += amount\n",
        "        print(f\"Deposited ₹{amount}\")\n",
        "\n",
        "  def Withdrawal(self, amount):\n",
        "        if amount > self.balance:\n",
        "            print(\"Insufficient balance. Withdrawal not allowed.\")\n",
        "        else:\n",
        "            self.balance -= amount\n",
        "            print(f\"Withdrew ₹{amount}\")\n",
        "\n",
        "  def bankFees(self):\n",
        "        fee = self.balance * 0.05\n",
        "        self.balance -= fee\n",
        "        print(f\"Bank fees of ₹{fee:.2f} applied.\")\n",
        "\n",
        "  def display(self):\n",
        "    print(\"Account Number :\", self.accountNumber)\n",
        "    print(\"Account Name :\", self.name)\n",
        "    print(\"Account Balance :\", self.balance, \"₹\")\n",
        "\n",
        "newAccount = BankAccount(2178514584, \"Mandy\", 2800)\n",
        "\n",
        "newAccount.Withdrawal(700)\n",
        "newAccount.Deposit(1000)\n",
        "newAccount.display()"
      ]
    },
    {
      "cell_type": "markdown",
      "metadata": {
        "id": "QovcQAZTrgGU"
      },
      "source": [
        "##`Q-3:Computation class`\n",
        "\n",
        "1. Create a `Computation` class with a default constructor (without parameters) allowing to perform various calculations on integers numbers.\n",
        "2. Create a method called `Factorial()` which allows to calculate the factorial of an integer n. Integer n as parameter for this method\n",
        "\n",
        "3. Create a method called `naturalSum()` allowing to calculate the sum of the first n integers 1 + 2 + 3 + .. + n. Integer n as parameter for this method.\n",
        "\n",
        "4. Create a method called `testPrime()` in  the Calculation class to test the primality of a given integer n, n is Prime or Not? Integer n as parameter for this method.\n",
        "\n",
        "5. Create  a method called `testPrims()` allowing to test if two numbers are prime between them. Two integers are prime to one another if they have only `1` as their common divisor. Eg. 4 and 9 are prime to each other.\n",
        "\n",
        "5. Create a `tableMult()` method which creates and displays the multiplication table of a given integer. Then create an `allTablesMult()` method to display all the integer multiplication tables 1, 2, 3, ..., 9.\n",
        "\n",
        "6. Create a static `listDiv()` method that gets all the divisors of a given integer on new list called  Ldiv. Create another `listDivPrim()` method that gets all the prime divisors of a given integer."
      ]
    },
    {
      "cell_type": "code",
      "execution_count": null,
      "metadata": {
        "id": "YEkPH70l6Z-o",
        "colab": {
          "base_uri": "https://localhost:8080/"
        },
        "outputId": "c8e3ce0e-0ee7-48e4-df90-0d9b54dd1fbf"
      },
      "outputs": [
        {
          "output_type": "stream",
          "name": "stdout",
          "text": [
            "The factorial of 5 is: 120\n",
            "the sum of the first n integers:55\n",
            "\n",
            "Multiplication table of 3:\n",
            "3 x 1 = 3\n",
            "3 x 2 = 6\n",
            "3 x 3 = 9\n",
            "3 x 4 = 12\n",
            "3 x 5 = 15\n",
            "3 x 6 = 18\n",
            "3 x 7 = 21\n",
            "3 x 8 = 24\n",
            "3 x 9 = 27\n",
            "3 x 10 = 30\n",
            "\n",
            "Multiplication table of 1:\n",
            "1 x 1 = 1\n",
            "1 x 2 = 2\n",
            "1 x 3 = 3\n",
            "1 x 4 = 4\n",
            "1 x 5 = 5\n",
            "1 x 6 = 6\n",
            "1 x 7 = 7\n",
            "1 x 8 = 8\n",
            "1 x 9 = 9\n",
            "1 x 10 = 10\n",
            "--------------------\n",
            "\n",
            "Multiplication table of 2:\n",
            "2 x 1 = 2\n",
            "2 x 2 = 4\n",
            "2 x 3 = 6\n",
            "2 x 4 = 8\n",
            "2 x 5 = 10\n",
            "2 x 6 = 12\n",
            "2 x 7 = 14\n",
            "2 x 8 = 16\n",
            "2 x 9 = 18\n",
            "2 x 10 = 20\n",
            "--------------------\n",
            "\n",
            "Multiplication table of 3:\n",
            "3 x 1 = 3\n",
            "3 x 2 = 6\n",
            "3 x 3 = 9\n",
            "3 x 4 = 12\n",
            "3 x 5 = 15\n",
            "3 x 6 = 18\n",
            "3 x 7 = 21\n",
            "3 x 8 = 24\n",
            "3 x 9 = 27\n",
            "3 x 10 = 30\n",
            "--------------------\n",
            "\n",
            "Multiplication table of 4:\n",
            "4 x 1 = 4\n",
            "4 x 2 = 8\n",
            "4 x 3 = 12\n",
            "4 x 4 = 16\n",
            "4 x 5 = 20\n",
            "4 x 6 = 24\n",
            "4 x 7 = 28\n",
            "4 x 8 = 32\n",
            "4 x 9 = 36\n",
            "4 x 10 = 40\n",
            "--------------------\n",
            "\n",
            "Multiplication table of 5:\n",
            "5 x 1 = 5\n",
            "5 x 2 = 10\n",
            "5 x 3 = 15\n",
            "5 x 4 = 20\n",
            "5 x 5 = 25\n",
            "5 x 6 = 30\n",
            "5 x 7 = 35\n",
            "5 x 8 = 40\n",
            "5 x 9 = 45\n",
            "5 x 10 = 50\n",
            "--------------------\n",
            "\n",
            "Multiplication table of 6:\n",
            "6 x 1 = 6\n",
            "6 x 2 = 12\n",
            "6 x 3 = 18\n",
            "6 x 4 = 24\n",
            "6 x 5 = 30\n",
            "6 x 6 = 36\n",
            "6 x 7 = 42\n",
            "6 x 8 = 48\n",
            "6 x 9 = 54\n",
            "6 x 10 = 60\n",
            "--------------------\n",
            "\n",
            "Multiplication table of 7:\n",
            "7 x 1 = 7\n",
            "7 x 2 = 14\n",
            "7 x 3 = 21\n",
            "7 x 4 = 28\n",
            "7 x 5 = 35\n",
            "7 x 6 = 42\n",
            "7 x 7 = 49\n",
            "7 x 8 = 56\n",
            "7 x 9 = 63\n",
            "7 x 10 = 70\n",
            "--------------------\n",
            "\n",
            "Multiplication table of 8:\n",
            "8 x 1 = 8\n",
            "8 x 2 = 16\n",
            "8 x 3 = 24\n",
            "8 x 4 = 32\n",
            "8 x 5 = 40\n",
            "8 x 6 = 48\n",
            "8 x 7 = 56\n",
            "8 x 8 = 64\n",
            "8 x 9 = 72\n",
            "8 x 10 = 80\n",
            "--------------------\n",
            "\n",
            "Multiplication table of 9:\n",
            "9 x 1 = 9\n",
            "9 x 2 = 18\n",
            "9 x 3 = 27\n",
            "9 x 4 = 36\n",
            "9 x 5 = 45\n",
            "9 x 6 = 54\n",
            "9 x 7 = 63\n",
            "9 x 8 = 72\n",
            "9 x 9 = 81\n",
            "9 x 10 = 90\n",
            "--------------------\n"
          ]
        }
      ],
      "source": [
        "class Computation:\n",
        "    def __init__(self):\n",
        "        pass\n",
        "\n",
        "    def Factorial(self,n):\n",
        "        if n < 0:\n",
        "            print(\"Factorial is not defined for negative numbers.\")\n",
        "            return\n",
        "        fact = 1\n",
        "        for i in range(1,n+1):\n",
        "            fact *= i\n",
        "        print(f\"The factorial of {n} is: {fact}\")\n",
        "\n",
        "    def naturalSum(self,n):\n",
        "        sum = 0\n",
        "        for i in range(1,n+1):\n",
        "          sum += i\n",
        "        print(f\"the sum of the first n integers:{sum}\")\n",
        "\n",
        "    def testPrime(self ,n):\n",
        "\n",
        "\n",
        "\n",
        "    def tableMult(self, n):\n",
        "        print(f\"\\nMultiplication table of {n}:\")\n",
        "        for i in range(1, 11):\n",
        "            print(f\"{n} x {i} = {n * i}\")\n",
        "\n",
        "    def allTablesMult(self):\n",
        "        for n in range(1, 10):\n",
        "            self.tableMult(n)\n",
        "            print(\"-\" * 20)\n",
        "op1 = Computation()\n",
        "op1.Factorial(5)\n",
        "op1.naturalSum(10)\n",
        "op1.tableMult(3)\n",
        "op1.allTablesMult()"
      ]
    },
    {
      "cell_type": "markdown",
      "metadata": {
        "id": "0yn23_oEriXa"
      },
      "source": [
        "##`Q-4`: Build flashcard using class in Python.\n",
        "\n",
        "Build a flashcard using class in python. A flashcard is a card having information on both sides, which can be used as an aid in memoization. Flashcards usually have a question on one side and an answer on the other.\n",
        "\n",
        "**Example 1:**\n",
        "\n",
        "Approach:\n",
        "\n",
        "- Create a class named FlashCard.\n",
        "- Initialize dictionary fruits using __init__() method. Here you have to define fruit name as key and it's color as value. E.g., {\"Banana\": \"yellow\", \"Strawberries\": \"pink\"}\n",
        "- Now randomly choose a pair from fruits by using _random_ module and store the key in variable _fruit_ and _value_ in variable color.\n",
        "- Now prompt the user to answer the color of the randomly chosen fruit.\n",
        "- If correct print correct else print wrong.\n",
        "\n",
        "Output:\n",
        "```bash\n",
        "welcome to fruit quiz\n",
        "What is the color of Strawberries\n",
        "pink\n",
        "Correct answer\n",
        "Enter 0, if you want to play again: 0\n",
        "What is the color of watermelon\n",
        "green\n",
        "Correct answer\n",
        "Enter 0, if you want to play again: 1\n",
        "```"
      ]
    },
    {
      "cell_type": "code",
      "execution_count": null,
      "metadata": {
        "id": "vCrUF6VU6l6w"
      },
      "outputs": [],
      "source": [
        "import random\n",
        "\n",
        "class FlashCard:\n",
        "    def __init__(self):\n",
        "        self.fruits = {\n",
        "            \"Banana\": \"yellow\",\n",
        "            \"Strawberries\": \"pink\",\n",
        "            \"Apple\": \"red\",\n",
        "            \"Grapes\": \"purple\",\n",
        "            \"Watermelon\": \"green\",\n",
        "            \"Orange\": \"orange\"\n",
        "        }\n",
        "\n",
        "    def quiz(self):\n",
        "        print(\"Welcome to the Fruit Quiz!\")\n",
        "        play = \"0\"\n",
        "        while play == \"0\":\n",
        "            fruit = random.choice(list(self.fruits))\n",
        "            answer = input(f\"What is the color of {fruit}?\").lower()\n",
        "\n",
        "            if answer == self.fruits[fruit].lower():\n",
        "                print(\"Correct answer\")\n",
        "            else:\n",
        "                print(f\"Wrong answer.Correct answer is {self.fruits[fruit]}\")\n",
        "\n",
        "            play = input(\"Enter 0 to play again or 1 to exit:\")\n",
        "\n",
        "fc = FlashCard()\n",
        "fc.quiz()"
      ]
    },
    {
      "cell_type": "markdown",
      "metadata": {
        "id": "GN2r0jbRewYr"
      },
      "source": [
        "## `Q-5:` Problem 5 based on OOP Python.\n",
        "\n",
        "TechWorld, a technology training center, wants to allocate courses for instructors. An instructor is identified by name, technology skills, experience and average feedback. An instructor is allocated a course, if he/she satisfies the below two conditions:\n",
        "- eligibility criteria:\n",
        "    - if experience is more than 3 years, average feedback should be 4.5 or more\n",
        "    - if experience is 3 years or less, average feedback should be 4 or more\n",
        "- he/she should posses the technology skill for the course\n",
        "\n",
        "Identify the class name and attributes to represent instructors. Write a Python program to implement the class chosen with its attributes and methods.\n",
        "\n",
        "**Note:**\n",
        "- Consider all instance variables to be private and methods to be public.\n",
        "- An instructor may have multiple technology skills, so consider instance variable, technology_skill to be a list.\n",
        "- *check_eligibility()*: Return true if eligibility criteria is satisfied by the instructor. Else, return false\n",
        "- *allocate_course(technology)*: Return true if the course which requires the given technology can be allocated to the instructor. Else, return false.\n",
        "\n",
        "Represent a few objects of the class, initialize instance variables using setter methods, invoke\n",
        "appropriate methods and test your program."
      ]
    },
    {
      "cell_type": "code",
      "execution_count": 3,
      "metadata": {
        "id": "pdMFuVFnlvKL",
        "colab": {
          "base_uri": "https://localhost:8080/"
        },
        "outputId": "d73706b3-f3a2-476a-834d-2d1489e4daab"
      },
      "outputs": [
        {
          "output_type": "stream",
          "name": "stdout",
          "text": [
            "Course on python allocated to parth.\n",
            "payal is not eligible or lacks skill in html.\n"
          ]
        },
        {
          "output_type": "execute_result",
          "data": {
            "text/plain": [
              "False"
            ]
          },
          "metadata": {},
          "execution_count": 3
        }
      ],
      "source": [
        "class Instructor:\n",
        "    def __init__(self):\n",
        "        self.__name = \"\"\n",
        "        self.__technology_skill = []\n",
        "        self.__experience = 0\n",
        "        self.__avg_feedback = 0.0\n",
        "\n",
        "    def set_name(self, name):\n",
        "        self.__name = name\n",
        "\n",
        "    def set_technology_skill(self, skills):\n",
        "        self.__technology_skill = skills\n",
        "\n",
        "    def set_experience(self, experience):\n",
        "        self.__experience = experience\n",
        "\n",
        "    def set_avg_feedback(self, feedback):\n",
        "        self.__avg_feedback = feedback\n",
        "\n",
        "    def check_eligibility(self):\n",
        "        if (self.__experience > 3 and self.__avg_feedback >= 4.5) or \\\n",
        "           (self.__experience <= 3 and self.__avg_feedback >= 4):\n",
        "            return True\n",
        "        return False\n",
        "\n",
        "    def allocate_course(self, technology):\n",
        "        if self.check_eligibility() and technology in self.__technology_skill:\n",
        "            print(f\"Course on {technology} allocated to {self.__name}.\")\n",
        "            return True\n",
        "        else:\n",
        "            print(f\"{self.__name} is not eligible or lacks skill in {technology}.\")\n",
        "            return False\n",
        "\n",
        "inst1 = Instructor()\n",
        "inst1.set_name(\"parth\")\n",
        "inst1.set_technology_skill([\"python\", \"java\"])\n",
        "inst1.set_experience(5)\n",
        "inst1.set_avg_feedback(4.6)\n",
        "inst1.allocate_course(\"python\")\n",
        "\n",
        "inst2 = Instructor()\n",
        "inst2.set_name(\"payal\")\n",
        "inst2.set_technology_skill([\"html\", \"css\"])\n",
        "inst2.set_experience(2)\n",
        "inst2.set_avg_feedback(3.9)\n",
        "inst2.allocate_course(\"html\")"
      ]
    },
    {
      "cell_type": "code",
      "source": [],
      "metadata": {
        "id": "HRxDBymB5sFt"
      },
      "execution_count": null,
      "outputs": []
    }
  ],
  "metadata": {
    "colab": {
      "provenance": []
    },
    "kernelspec": {
      "display_name": "Python 3",
      "name": "python3"
    },
    "language_info": {
      "name": "python"
    }
  },
  "nbformat": 4,
  "nbformat_minor": 0
}