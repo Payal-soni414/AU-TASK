{
  "cells": [
    {
      "cell_type": "markdown",
      "metadata": {
        "id": "w6RlOAXV2PWh"
      },
      "source": [
        "### `Problem 1`: Write a program that will give you in hand monthly salary after deduction on CTC - HRA(10%), DA(5%), PF(3%) and taxes deduction as below:\n",
        "\n",
        "> Salary(Lakhs) : Tax(%)\n",
        "\n",
        "*   Below 5 : 0%\n",
        "*   5-10 : 10%\n",
        "*   10-20 : 20%\n",
        "*   aboove 20 : 30%"
      ]
    },
    {
      "cell_type": "code",
      "execution_count": null,
      "metadata": {
        "id": "7tMHvKYO2etI"
      },
      "outputs": [],
      "source": [
        "ctc_lakhs = float(input(\"Enter your CTC (in Lakhs): \"))\n",
        "ctc = ctc_lakhs * 100000\n",
        "hra = 0.10 * ctc\n",
        "da = 0.05 * ctc\n",
        "pf = 0.03 * ctc\n",
        "total_deductions = hra + da + pf\n",
        "\n",
        "if ctc_lakhs < 5:\n",
        "    tax_rate = 0\n",
        "elif ctc_lakhs <= 10:\n",
        "    tax_rate = 0.10\n",
        "elif ctc_lakhs <= 20:\n",
        "    tax_rate = 0.20\n",
        "else:\n",
        "    tax_rate = 0.30\n",
        "\n",
        "tax = tax_rate * ctc\n",
        "\n",
        "in_hand_yearly = ctc - total_deductions - tax\n",
        "in_hand_monthly = in_hand_yearly / 12\n",
        "\n",
        "print(f\"\\nCTC: ₹{ctc:,.2f}\")\n",
        "print(f\"Total Deductions (HRA + DA + PF): ₹{total_deductions:,.2f}\")\n",
        "print(f\"Tax Deducted @ {tax_rate*100}%: ₹{tax:,.2f}\")\n",
        "print(f\"In-Hand Yearly Salary: ₹{in_hand_yearly:,.2f}\")\n",
        "print(f\"In-Hand Monthly Salary: ₹{in_hand_monthly:,.2f}\")\n"
      ]
    },
    {
      "cell_type": "markdown",
      "metadata": {
        "id": "tYzCGqwl2hfN"
      },
      "source": [
        "### `Problem 2`: Write a program that take a user input of three angles and will find out whether it can form a triangle or not."
      ]
    },
    {
      "cell_type": "code",
      "execution_count": null,
      "metadata": {
        "id": "L-T8HwsQ1I68"
      },
      "outputs": [],
      "source": [
        "angle1 = int(input(\"Enter the first angle: \"))\n",
        "angle2 = int(input(\"Enter the second angle: \"))\n",
        "angle3 = int(input(\"Enter the third angle: \"))\n",
        "\n",
        "if angle1 + angle2 + angle3 == 180 and angle1 != 0 and angle2 != 0 and angle3 != 0:\n",
        "  print(\"These angles can form a triangle.\")\n",
        "else:\n",
        "  print(\"These angles cannot form a triangle.\")\n"
      ]
    },
    {
      "cell_type": "markdown",
      "metadata": {
        "id": "5vEpPh8C2pE4"
      },
      "source": [
        "### `Problem 3`: Write a program that will take user input of cost price and selling price and determines whether its a loss or a profit."
      ]
    },
    {
      "cell_type": "code",
      "execution_count": null,
      "metadata": {
        "id": "_h_orEi21jDh"
      },
      "outputs": [],
      "source": [
        "\n",
        "cost_price = float(input(\"Enter the cost price: \"))\n",
        "selling_price = float(input(\"Enter the selling price: \"))\n",
        "\n",
        "if selling_price > cost_price:\n",
        "  profit = selling_price - cost_price\n",
        "  print(\"Profit:\",profit)\n",
        "elif cost_price > selling_price:\n",
        "  loss = cost_price - selling_price\n",
        "  print(\"Loss:\",loss)\n",
        "else:\n",
        "  print(\"No profit, no loss.\")"
      ]
    },
    {
      "cell_type": "markdown",
      "metadata": {
        "id": "J_FG_cJW2ugT"
      },
      "source": [
        "### `Problem 4`: Write a menu-driven program -\n",
        "1. cm to ft\n",
        "2. km to miles\n",
        "3. USD to INR\n",
        "4. exit"
      ]
    },
    {
      "cell_type": "code",
      "execution_count": null,
      "metadata": {
        "colab": {
          "background_save": true,
          "base_uri": "https://localhost:8080/"
        },
        "id": "DwrPwyV11yE0",
        "outputId": "38ee77f5-2f8d-46cf-934e-93c5208f7760"
      },
      "outputs": [
        {
          "name": "stdout",
          "output_type": "stream",
          "text": [
            " Menu\n",
            " 1. cm to ft\n",
            " 2. km to miles \n",
            " 3. usd to inr\n",
            " 4. exit\n"
          ]
        }
      ],
      "source": [
        "print(\" Menu\")\n",
        "print(\" 1. cm to ft\")\n",
        "print(\" 2. km to miles \")\n",
        "print(\" 3. usd to inr\")\n",
        "print(\" 4. exit\")\n",
        "choice=int(input(\"enter your choice\"))\n",
        "if(choice == 1):\n",
        "  cm=float(input(\"enter the value in cm\"))\n",
        "  ft=cm/30.48\n",
        "  print(ft)\n",
        "elif(choice == 2):\n",
        "  km=float(input(\"enter the value in km\"))\n",
        "  miles=km*0.621371\n",
        "  print(miles)\n",
        "elif(choice == 3):\n",
        "  usd=float(input(\"enter the value in usd\"))\n",
        "  inr=usd*77\n",
        "  print(inr)\n",
        "elif(choice == 4):\n",
        "  exit()\n",
        "else:\n",
        "  print(\"invalid choice\")"
      ]
    },
    {
      "cell_type": "markdown",
      "metadata": {
        "id": "LJJ30_Yw27ZU"
      },
      "source": [
        "### `Problem 5` - Exercise 12: Display Fibonacci series up to 10 terms.\n",
        "\n",
        "*Note: The Fibonacci Sequence is a series of numbers. The next number is found by adding up the two numbers before it. The first two numbers are 0 and 1. For example, 0, 1, 1, 2, 3, 5, 8, 13, 21. The next number in this series above is 13+21 = 34*"
      ]
    },
    {
      "cell_type": "code",
      "execution_count": null,
      "metadata": {
        "colab": {
          "base_uri": "https://localhost:8080/"
        },
        "id": "Lk65MzmH2NyZ",
        "outputId": "d8ab6c1e-db76-42d1-b838-5bba25b104e8"
      },
      "outputs": [
        {
          "name": "stdout",
          "output_type": "stream",
          "text": [
            "Fibonacci series up to 10 terms:\n",
            "0 1 1 2 3 5 8 13 21 34 "
          ]
        }
      ],
      "source": [
        "n = 10\n",
        "n1 = 0\n",
        "n2 = 1\n",
        "\n",
        "print(\"Fibonacci series up to 10 terms:\")\n",
        "for i in range(n):\n",
        "    print(n1, end=' ')\n",
        "    c = n1+n2\n",
        "    n1= n2\n",
        "    n2 = c\n"
      ]
    },
    {
      "cell_type": "markdown",
      "metadata": {
        "id": "pk_I_S4m3PT5"
      },
      "source": [
        "### `Problem 6` - Find the factorial of a given number.\n",
        "\n",
        "Write a program to use the loop to find the factorial of a given number.\n",
        "\n",
        "The factorial (symbol: `!`) means to multiply all whole numbers from the chosen number down to 1.\n",
        "\n",
        "For example: calculate the factorial of 5\n",
        "\n",
        "```bash\n",
        "5! = 5 × 4 × 3 × 2 × 1 = 120\n",
        "```\n",
        "\n",
        "Output:\n",
        "\n",
        "```bash\n",
        "120\n",
        "```"
      ]
    },
    {
      "cell_type": "code",
      "execution_count": null,
      "metadata": {
        "colab": {
          "base_uri": "https://localhost:8080/"
        },
        "id": "lzXxHegx3Rkc",
        "outputId": "2d1f818d-0ccf-481f-fe5a-f7d58fbb4d84"
      },
      "outputs": [
        {
          "name": "stdout",
          "output_type": "stream",
          "text": [
            "Enter a number: 5\n",
            "Factorial is: 120\n"
          ]
        }
      ],
      "source": [
        "num = int(input(\"Enter a number: \"))\n",
        "fact = 1\n",
        "\n",
        "for i in range(1, num + 1):\n",
        "    fact *= i\n",
        "\n",
        "print(\"Factorial is:\", fact)\n"
      ]
    },
    {
      "cell_type": "markdown",
      "metadata": {
        "id": "-17IOi-g3UpU"
      },
      "source": [
        "\n",
        "### `Problem 7` - Reverse a given integer number.\n",
        "\n",
        "Example:\n",
        "\n",
        "`Input:`\n",
        "\n",
        "```bash\n",
        "76542\n",
        "```\n",
        "\n",
        "`Output:`\n",
        "\n",
        "```bash\n",
        "24567\n",
        "```"
      ]
    },
    {
      "cell_type": "code",
      "execution_count": null,
      "metadata": {
        "id": "wJwLpKCr3aVA"
      },
      "outputs": [],
      "source": [
        "num = int(input(\"Enter a number: \"))\n",
        "reverse = 0\n",
        "\n",
        "while num != 0:\n",
        "    digit = num % 10\n",
        "    reverse = reverse * 10 + digit\n",
        "    num = num // 10\n",
        "\n",
        "print(\"Reversed number:\", reverse)"
      ]
    },
    {
      "cell_type": "markdown",
      "metadata": {
        "id": "-t8PJQaY3sHf"
      },
      "source": [
        "### `Problem 8`: Take a user input as integer N. Find out the sum from 1 to N. If any number if divisible by 5, then skip that number. And if the sum is greater than 300, don't need to calculate the sum further more. Print the final result. And don't use for loop to solve this problem.\n",
        "\n",
        "**Example 1:**\n",
        "\n",
        "`Input:`\n",
        "\n",
        "```bash\n",
        "30\n",
        "```\n",
        "\n",
        "`Output:`\n",
        "\n",
        "```bash\n",
        "276\n",
        "```"
      ]
    },
    {
      "cell_type": "code",
      "execution_count": null,
      "metadata": {
        "id": "GZB6mGMP3ujT"
      },
      "outputs": [],
      "source": [
        "N = int(input(\"Enter a number N: \"))\n",
        "i = 1\n",
        "total = 0\n",
        "\n",
        "while i <= N and total <= 300:\n",
        "    if i % 5 != 0:\n",
        "        total += i\n",
        "    i += 1\n",
        "\n",
        "print(\"Final sum is:\", total)"
      ]
    },
    {
      "cell_type": "markdown",
      "metadata": {
        "id": "Q7ggImeA3xm4"
      },
      "source": [
        "### `Problem 9`: Write a program that keeps on accepting a number from the user until the user enters Zero. Display the sum and average of all the numbers."
      ]
    },
    {
      "cell_type": "code",
      "execution_count": null,
      "metadata": {
        "id": "t_YDSZDe4Kdo"
      },
      "outputs": [],
      "source": [
        "sum = 0\n",
        "count = 0\n",
        "\n",
        "while True:\n",
        "    num = int(input(\"Enter a number (0 to stop): \"))\n",
        "    if num == 0:\n",
        "        break\n",
        "    sum += num\n",
        "    count += 1\n",
        "\n",
        "if count == 0:\n",
        "    average = 0\n",
        "else:\n",
        "    average = sum / count\n",
        "\n",
        "print(\"Sum =\", sum)\n",
        "print(\"Average =\", average)\n"
      ]
    },
    {
      "cell_type": "markdown",
      "metadata": {
        "id": "6EhvEMvm4R7s"
      },
      "source": [
        "###`Problem 9`: Write a program which will find all such numbers which are divisible by 7 but are not a multiple of 5, between 2000 and 3200 (both included). The numbers obtained should be printed in a comma-separated sequence on a single line."
      ]
    },
    {
      "cell_type": "code",
      "source": [
        "result = []\n",
        "for number in range(2000, 3201):\n",
        "    if number % 7 == 0 and number % 5 != 0:\n",
        "        result.append(number)\n",
        "print(result)"
      ],
      "metadata": {
        "colab": {
          "base_uri": "https://localhost:8080/"
        },
        "id": "1bicZiQxSek9",
        "outputId": "c815de8d-3d40-44a0-c549-74a52f032c67"
      },
      "execution_count": null,
      "outputs": [
        {
          "output_type": "stream",
          "name": "stdout",
          "text": [
            "[2002, 2009, 2016, 2023, 2037, 2044, 2051, 2058, 2072, 2079, 2086, 2093, 2107, 2114, 2121, 2128, 2142, 2149, 2156, 2163, 2177, 2184, 2191, 2198, 2212, 2219, 2226, 2233, 2247, 2254, 2261, 2268, 2282, 2289, 2296, 2303, 2317, 2324, 2331, 2338, 2352, 2359, 2366, 2373, 2387, 2394, 2401, 2408, 2422, 2429, 2436, 2443, 2457, 2464, 2471, 2478, 2492, 2499, 2506, 2513, 2527, 2534, 2541, 2548, 2562, 2569, 2576, 2583, 2597, 2604, 2611, 2618, 2632, 2639, 2646, 2653, 2667, 2674, 2681, 2688, 2702, 2709, 2716, 2723, 2737, 2744, 2751, 2758, 2772, 2779, 2786, 2793, 2807, 2814, 2821, 2828, 2842, 2849, 2856, 2863, 2877, 2884, 2891, 2898, 2912, 2919, 2926, 2933, 2947, 2954, 2961, 2968, 2982, 2989, 2996, 3003, 3017, 3024, 3031, 3038, 3052, 3059, 3066, 3073, 3087, 3094, 3101, 3108, 3122, 3129, 3136, 3143, 3157, 3164, 3171, 3178, 3192, 3199]\n"
          ]
        }
      ]
    },
    {
      "cell_type": "markdown",
      "metadata": {
        "id": "0UJA9Un2iA9l"
      },
      "source": []
    },
    {
      "cell_type": "markdown",
      "metadata": {
        "id": "tYvmRR-G4Vp4"
      },
      "source": [
        "###`Problem 10`: Write a program, which will find all such numbers between 1000 and 3000 (both included) such that each digit of the number is an even number. The numbers obtained should be printed in a space-separated sequence on a single line.\n",
        "\n"
      ]
    },
    {
      "cell_type": "code",
      "execution_count": null,
      "metadata": {
        "id": "k6Gs1kIf4k19"
      },
      "outputs": [],
      "source": [
        "for num in range(1000, 3001):\n",
        "  digits = str(num)\n",
        "  all_even = True\n",
        "  for digit in digits:\n",
        "    if int(digit) % 2 != 0:\n",
        "      all_even = False\n",
        "      break\n",
        "  if all_even:\n",
        "    print(num, end=' ')"
      ]
    },
    {
      "cell_type": "markdown",
      "metadata": {
        "id": "3fsAIAhK5GYY"
      },
      "source": [
        "###`Problem 12`:Write a program to print whether a given number is a prime number or not"
      ]
    },
    {
      "cell_type": "code",
      "execution_count": null,
      "metadata": {
        "id": "j6y91lxy5LZs"
      },
      "outputs": [],
      "source": [
        "num = int(input(\"Enter a number: \"))\n",
        "\n",
        "if num > 1:\n",
        "    for i in range(2, num):\n",
        "        if num % i == 0:\n",
        "            print(num, \"is not a prime number\")\n",
        "            break\n",
        "    else:\n",
        "        print(num, \"is a prime number\")\n",
        "else:\n",
        "    print(num, \"is not a prime number\")"
      ]
    },
    {
      "cell_type": "markdown",
      "metadata": {
        "id": "asAbmbK-5NHv"
      },
      "source": [
        "###`Problem 13`:Print all the Armstrong numbers in a given range.\n",
        "Range will be provided by the user<br>\n",
        "Armstrong number is a number that is equal to the sum of cubes of its digits. For example 0, 1, 153, 370, 371 and 407 are the Armstrong numbers."
      ]
    },
    {
      "cell_type": "code",
      "execution_count": null,
      "metadata": {
        "id": "PZuI67pm5jCT",
        "colab": {
          "base_uri": "https://localhost:8080/"
        },
        "outputId": "254ac488-e0ae-46d2-9ef9-d27a6857b938"
      },
      "outputs": [
        {
          "output_type": "stream",
          "name": "stdout",
          "text": [
            "Enter start of range:1\n",
            "Enter end of range:500\n",
            "Armstrong numbers :\n",
            "1\n",
            "153\n",
            "370\n",
            "371\n",
            "407\n"
          ]
        }
      ],
      "source": [
        "start = int(input(\"Enter start of range:\"))\n",
        "end = int(input(\"Enter end of range:\"))\n",
        "\n",
        "print(\"Armstrong numbers :\")\n",
        "for num in range(start, end + 1):\n",
        "    temp = num\n",
        "    sum = 0\n",
        "    while temp > 0:\n",
        "        digit = temp % 10\n",
        "        sum = sum + digit * digit * digit\n",
        "        temp = temp // 10\n",
        "    if sum == num:\n",
        "        print(num)\n"
      ]
    },
    {
      "cell_type": "markdown",
      "metadata": {
        "id": "ClCQZMqT7gK0"
      },
      "source": [
        "###`Problem 14`:Calculate the angle between the hour hand and minute hand.\n",
        "\n",
        "Note: There can be two angles between hands; we need to print a minimum of two. Also, we need to print the floor of the final result angle. For example, if the final angle is 10.61, we need to print 10.\n",
        "\n",
        "Input:<br>\n",
        "H = 9 , M = 0<br>\n",
        "Output:<br>\n",
        "90<br>\n",
        "Explanation:<br>\n",
        "The minimum angle between hour and minute\n",
        "hand when the time is 9 is 90 degress."
      ]
    },
    {
      "cell_type": "code",
      "execution_count": null,
      "metadata": {
        "id": "tNBTCZML7jy_"
      },
      "outputs": [],
      "source": [
        "H = int(input(\"Enter hours (0-11): \"))\n",
        "M = int(input(\"Enter minutes (0-59): \"))\n",
        "minute_angle = 6 * M\n",
        "hour_angle = 30 * H + 0.5 * M\n",
        "if hour_angle > minute_angle:\n",
        "    angle = hour_angle - minute_angle\n",
        "else:\n",
        "    angle = minute_angle - hour_angle\n",
        "if angle > 180:\n",
        "    min_angle = 360 - angle\n",
        "else:\n",
        "    min_angle = angle\n",
        "print(int(min_angle))\n"
      ]
    },
    {
      "cell_type": "markdown",
      "metadata": {
        "id": "GwacF9Co72Qc"
      },
      "source": [
        "###`Problem 15`:Given two rectangles, find if the given two rectangles overlap or not. A rectangle is denoted by providing the x and y coordinates of two points: the left top corner and the right bottom corner of the rectangle. Two rectangles sharing a side are considered overlapping. (L1 and R1 are the extreme points of the first rectangle and L2 and R2 are the extreme points of the second rectangle).\n",
        "\n",
        "Note: It may be assumed that the rectangles are parallel to the coordinate axis.\n",
        "\n",
        "<img src='https://www.geeksforgeeks.org/wp-content/uploads/rectanglesOverlap.png' width='300' height='200'>"
      ]
    },
    {
      "cell_type": "code",
      "execution_count": 1,
      "metadata": {
        "id": "6rrw_lpH78Rs",
        "colab": {
          "base_uri": "https://localhost:8080/"
        },
        "outputId": "2ae3bdcf-3322-4a67-80e4-b96bb6231f2b"
      },
      "outputs": [
        {
          "output_type": "stream",
          "name": "stdout",
          "text": [
            "rectangle overlaps\n"
          ]
        }
      ],
      "source": [
        "L1 = (0, 10)\n",
        "R1 = (10, 0)\n",
        "\n",
        "L2 = (5, 5)\n",
        "R2 = (15, -5)\n",
        "\n",
        "if(R1[0]< L2[0]) or (R2[0]<L1[0]) or (R1[1]>L2[1]) or (R2[1]>L1[1]):\n",
        "  print(\"rectangles are not overlapping \")\n",
        "else:\n",
        "  print(\"rectangle overlaps\")"
      ]
    }
  ],
  "metadata": {
    "colab": {
      "provenance": []
    },
    "kernelspec": {
      "display_name": "Python 3",
      "name": "python3"
    },
    "language_info": {
      "name": "python"
    }
  },
  "nbformat": 4,
  "nbformat_minor": 0
}