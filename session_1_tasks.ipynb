{
  "nbformat": 4,
  "nbformat_minor": 0,
  "metadata": {
    "colab": {
      "provenance": []
    },
    "kernelspec": {
      "name": "python3",
      "display_name": "Python 3"
    },
    "language_info": {
      "name": "python"
    }
  },
  "cells": [
    {
      "cell_type": "markdown",
      "source": [
        "# Task : Session 1\n",
        "Solve these questions own your own and try to test yourself what you have learned in the session.\n",
        "\n",
        "Happy Learning!"
      ],
      "metadata": {
        "id": "A05OG15VqOPF"
      }
    },
    {
      "cell_type": "markdown",
      "source": [
        "### Q1 :- Print the given strings as per stated format.\n",
        "\n",
        "**Given strings**:\n",
        "```\n",
        "\"Data\" \"Science\" \"Mentorship\" \"Program\"\n",
        "\"By\" \"CampusX\"\n",
        "```\n",
        "**Output**:\n",
        "```\n",
        "Data-Science-Mentorship-Program-started-By-CampusX\n",
        "```\n",
        "\n",
        "Concept- [Seperator and End]"
      ],
      "metadata": {
        "id": "2doIXf8bqe9_"
      }
    },
    {
      "cell_type": "code",
      "source": [
        "print(\"data\",\"science\",\"mentorship\",\"program\",\"started\",\"by\",\"campusX\",sep=\"-\")"
      ],
      "metadata": {
        "id": "HzZ-LGSU0mOR",
        "outputId": "b38f27fc-7cb2-4d09-f025-a7598e5f3771",
        "colab": {
          "base_uri": "https://localhost:8080/"
        }
      },
      "execution_count": null,
      "outputs": [
        {
          "output_type": "stream",
          "name": "stdout",
          "text": [
            "data-science-mentorship-program-started-by-campusX\n"
          ]
        }
      ]
    },
    {
      "cell_type": "markdown",
      "source": [
        "### Q2:- Write a program that will convert celsius value to fahrenheit."
      ],
      "metadata": {
        "id": "1KUpN7ZTrC3_"
      }
    },
    {
      "cell_type": "code",
      "source": [
        "celsius = int(input(\"enter a value in celsius : \"))\n",
        "fahrenheit = (celsius * 9/5) + 32\n",
        "print(fahrenheit)"
      ],
      "metadata": {
        "id": "yxKYhYQiqWfj",
        "colab": {
          "base_uri": "https://localhost:8080/"
        },
        "outputId": "6757b9d0-1811-4a55-c3f1-27faeb52b3e1"
      },
      "execution_count": null,
      "outputs": [
        {
          "output_type": "stream",
          "name": "stdout",
          "text": [
            "enter a value in celsius : 34\n",
            "93.2\n"
          ]
        }
      ]
    },
    {
      "cell_type": "markdown",
      "source": [
        "### Q3:- Take 2 numbers as input from the user.Write a program to swap the numbers without using any special python syntax."
      ],
      "metadata": {
        "id": "RLrOBBJurLB2"
      }
    },
    {
      "cell_type": "code",
      "source": [
        "num1 = int(input(\"enter a number : \"))\n",
        "num2 = int(input(\"enter a number : \"))\n",
        "temp = num1\n",
        "num1 = num2\n",
        "num2 = temp\n",
        "print(num1)\n",
        "print(num2)"
      ],
      "metadata": {
        "id": "yPn7if0TrJ4F",
        "colab": {
          "base_uri": "https://localhost:8080/"
        },
        "outputId": "4b860702-2ca5-42cf-e279-f2c7241b3288"
      },
      "execution_count": null,
      "outputs": [
        {
          "output_type": "stream",
          "name": "stdout",
          "text": [
            "enter a number : 90\n",
            "enter a number : 89\n",
            "89\n",
            "90\n"
          ]
        }
      ]
    },
    {
      "cell_type": "markdown",
      "source": [
        "### Q4:- Write a program to find the euclidean distance between two coordinates.Take both the coordinates from the user as input."
      ],
      "metadata": {
        "id": "waLCP1bjr7ML"
      }
    },
    {
      "cell_type": "code",
      "source": [
        "x1 = int(input(\"enter x1 coordinate : \"))\n",
        "y1 = int(input(\"enter y1 coordinate : \"))\n",
        "x2 = int(input(\"enter x2 coordinate : \"))\n",
        "y2 = int(input(\"enter y2 coordinate : \"))\n",
        "euclidean_distance = ((x2 - x1)**2 + (y2 - y1)**2)**0.5\n",
        "print(euclidean_distance)"
      ],
      "metadata": {
        "id": "Pl1Sv-xnrxnH",
        "colab": {
          "base_uri": "https://localhost:8080/"
        },
        "outputId": "f3955237-2647-4811-b337-1ac16004b205"
      },
      "execution_count": null,
      "outputs": [
        {
          "output_type": "stream",
          "name": "stdout",
          "text": [
            "enter x1 coordinate : 3\n",
            "enter y1 coordinate : 2\n",
            "enter x2 coordinate : 4\n",
            "enter y2 coordinate : 8\n",
            "6.082762530298219\n"
          ]
        }
      ]
    },
    {
      "cell_type": "markdown",
      "source": [
        "### Q5:- Write a program to find the simple interest when the value of principle,rate of interest and time period is provided by the user.\n"
      ],
      "metadata": {
        "id": "VLrhg-FRsHjR"
      }
    },
    {
      "cell_type": "code",
      "source": [
        "principle = int(input(\"enter principle : \"))\n",
        "rate = int(input(\"enter rate : \"))\n",
        "time = int(input(\"enter time : \"))\n",
        "simple_interest = (principle * rate * time)/100\n",
        "print(simple_interest)"
      ],
      "metadata": {
        "id": "s40DlReZsTmY"
      },
      "execution_count": null,
      "outputs": []
    },
    {
      "cell_type": "markdown",
      "source": [
        "### Q6:- Write a program that will tell the number of dogs and chicken are there when the user will provide the value of total heads and legs.\n",
        "\n",
        "For example:\n",
        "Input:\n",
        "heads -> 4\n",
        "legs -> 12\n",
        "<br>\n",
        "Output:\n",
        "dogs -> 2\n",
        "chicken -> 2\n",
        "\n",
        "\n",
        "\n"
      ],
      "metadata": {
        "id": "LMy0BTUktYKa"
      }
    },
    {
      "cell_type": "code",
      "source": [
        "heads = int(input(\"enter heads : \"))\n",
        "legs = int(input(\"enter legs : \"))\n",
        "dogs = (legs - 2*heads)/2\n",
        "chicken = heads - dogs\n",
        "print(dogs)\n",
        "print(chicken)"
      ],
      "metadata": {
        "id": "XSBvJoA4tXaG",
        "colab": {
          "base_uri": "https://localhost:8080/"
        },
        "outputId": "420d030f-43e2-4ae4-dafc-29901c6c12e7"
      },
      "execution_count": null,
      "outputs": [
        {
          "output_type": "stream",
          "name": "stdout",
          "text": [
            "enter heads : 4\n",
            "enter legs : 12\n",
            "2.0\n",
            "2.0\n"
          ]
        }
      ]
    },
    {
      "cell_type": "markdown",
      "source": [
        "### Q7:- Write a program to find the sum of squares of first n natural numbers where n will be provided by the user."
      ],
      "metadata": {
        "id": "gJ7C5kZYt4BP"
      }
    },
    {
      "cell_type": "code",
      "source": [
        "n = int(input(\"enter a number:\"))\n",
        "sum=0\n",
        "for i in range(1, n+1):\n",
        "  sum = sum + (i**2)\n",
        "print(sum)"
      ],
      "metadata": {
        "id": "_tHsmEHzt2nX",
        "colab": {
          "base_uri": "https://localhost:8080/"
        },
        "outputId": "6792fa4d-666e-4002-c52e-6572d32ff4db"
      },
      "execution_count": null,
      "outputs": [
        {
          "output_type": "stream",
          "name": "stdout",
          "text": [
            "enter a number:4\n",
            "30\n"
          ]
        }
      ]
    },
    {
      "cell_type": "markdown",
      "source": [
        "### Q8:- Given the first 2 terms of an Arithmetic Series.Find the Nth term of the series. Assume all inputs are provided by the user."
      ],
      "metadata": {
        "id": "FHrMM7g-yG1h"
      }
    },
    {
      "cell_type": "code",
      "source": [
        "term1 = int(input(\"enter first term:\"))\n",
        "term2 = int(input(\"enter second term:\"))\n",
        "n = int(input(\"enter number of terms:\"))\n",
        "difference = term2-term1\n",
        "nth_term = difference * (n-1) + term1\n",
        "print(nth_term)"
      ],
      "metadata": {
        "id": "go4_kmZmyVSx",
        "colab": {
          "base_uri": "https://localhost:8080/"
        },
        "outputId": "bc9a7d9b-5175-4d41-fe51-d75d687d0b41"
      },
      "execution_count": null,
      "outputs": [
        {
          "output_type": "stream",
          "name": "stdout",
          "text": [
            "enter first term:1\n",
            "enter second term:3\n",
            "enter number of terms:5\n",
            "9\n"
          ]
        }
      ]
    },
    {
      "cell_type": "markdown",
      "source": [
        "### Q9:- Given 2 fractions, find the sum of those 2 fractions.Take the numerator and denominator values of the fractions from the user."
      ],
      "metadata": {
        "id": "QgyRX_es1oum"
      }
    },
    {
      "cell_type": "code",
      "source": [
        "numerator1 = int(input(\"Enter the numerator of the first fraction: \"))\n",
        "denominator1 = int(input(\"Enter the denominator of the first fraction: \"))\n",
        "numerator2 = int(input(\"Enter the numerator of the second fraction: \"))\n",
        "denominator2 = int(input(\"Enter the denominator of the second fraction: \"))\n",
        "\n",
        "sum_numerator = numerator1 * denominator2 + numerator2 * denominator1\n",
        "sum_denominator = denominator1 * denominator2\n",
        "\n",
        "print(f\"The sum of the two fractions is: {sum_numerator}/{sum_denominator}\")\n"
      ],
      "metadata": {
        "colab": {
          "base_uri": "https://localhost:8080/"
        },
        "id": "Xgf1PHmNxmOA",
        "outputId": "287808a1-4eb2-4bd7-f9c3-87e3497022e7"
      },
      "execution_count": null,
      "outputs": [
        {
          "output_type": "stream",
          "name": "stdout",
          "text": [
            "Enter the numerator of the first fraction: 1\n",
            "Enter the denominator of the first fraction: 2\n",
            "Enter the numerator of the second fraction: 1\n",
            "Enter the denominator of the second fraction: 3\n",
            "The sum of the two fractions is: 5/6\n"
          ]
        }
      ]
    },
    {
      "cell_type": "markdown",
      "source": [
        "### Q10:- Given the height, width and breadth of a milk tank, you have to find out how many glasses of milk can be obtained? Assume all the inputs are provided by the user.\n",
        "\n",
        "\n",
        "\n",
        "Input:<br>\n",
        "Dimensions of the milk tank<br>\n",
        "H = 20cm, L = 20cm, B = 20cm\n",
        "<br><br>\n",
        "Dimensions of the glass<br>\n",
        "h = 3cm, r = 1cm"
      ],
      "metadata": {
        "id": "eaql38ln13u7"
      }
    },
    {
      "cell_type": "code",
      "source": [
        "H = int(input(\"Enter the height of the milk tank (cm): \"))\n",
        "L = int(input(\"Enter the length of the milk tank (cm): \"))\n",
        "B = int(input(\"Enter the breadth of the milk tank (cm): \"))\n",
        "h = int(input(\"Enter the height of the glass (cm): \"))\n",
        "r = int(input(\"Enter the radius of the glass (cm): \"))\n",
        "\n",
        "tank_volume = H * L * B\n",
        "glass_volume = 3.14 * (r**2) * h\n",
        "num_glasses = tank_volume // glass_volume\n",
        "\n",
        "print(\"The number of glasses of milk that can be obtained is: \",num_glasses)"
      ],
      "metadata": {
        "id": "2GN7O3DJz3c8"
      },
      "execution_count": null,
      "outputs": []
    }
  ]
}